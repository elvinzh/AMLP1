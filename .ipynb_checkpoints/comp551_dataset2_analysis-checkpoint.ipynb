{
 "cells": [
  {
   "cell_type": "code",
   "execution_count": 1,
   "id": "5685f37f",
   "metadata": {},
   "outputs": [],
   "source": [
    "import pandas as pd\n",
    "import matplotlib.pyplot as plt\n",
    "import numpy as np\n",
    "import math\n",
    "\n",
    "from sklearn.neighbors import KNeighborsClassifier\n",
    "from sklearn.tree import DecisionTreeClassifier\n",
    "from sklearn import tree\n",
    "from sklearn.model_selection import train_test_split\n",
    "from sklearn import metrics\n",
    "from sklearn.utils import shuffle"
   ]
  },
  {
   "cell_type": "markdown",
   "id": "075147d0",
   "metadata": {},
   "source": [
    "## Data Prep\n",
    "\n",
    "In this dataset, we're given the data of 649 Portuguese students and asked to predict their final trimester grades (G3) in math.\n",
    "\n",
    "The dataset has no missing data, so there's no imputation involved.\n",
    "\n",
    "Data source: https://archive.ics.uci.edu/ml/datasets/Student+Performance"
   ]
  },
  {
   "cell_type": "code",
   "execution_count": 4,
   "id": "805e8e79",
   "metadata": {},
   "outputs": [
    {
     "data": {
      "text/html": [
       "<div>\n",
       "<style scoped>\n",
       "    .dataframe tbody tr th:only-of-type {\n",
       "        vertical-align: middle;\n",
       "    }\n",
       "\n",
       "    .dataframe tbody tr th {\n",
       "        vertical-align: top;\n",
       "    }\n",
       "\n",
       "    .dataframe thead th {\n",
       "        text-align: right;\n",
       "    }\n",
       "</style>\n",
       "<table border=\"1\" class=\"dataframe\">\n",
       "  <thead>\n",
       "    <tr style=\"text-align: right;\">\n",
       "      <th></th>\n",
       "      <th>school</th>\n",
       "      <th>sex</th>\n",
       "      <th>age</th>\n",
       "      <th>address</th>\n",
       "      <th>famsize</th>\n",
       "      <th>Pstatus</th>\n",
       "      <th>Medu</th>\n",
       "      <th>Fedu</th>\n",
       "      <th>Mjob</th>\n",
       "      <th>Fjob</th>\n",
       "      <th>...</th>\n",
       "      <th>famrel</th>\n",
       "      <th>freetime</th>\n",
       "      <th>goout</th>\n",
       "      <th>Dalc</th>\n",
       "      <th>Walc</th>\n",
       "      <th>health</th>\n",
       "      <th>absences</th>\n",
       "      <th>G1</th>\n",
       "      <th>G2</th>\n",
       "      <th>G3</th>\n",
       "    </tr>\n",
       "  </thead>\n",
       "  <tbody>\n",
       "    <tr>\n",
       "      <th>0</th>\n",
       "      <td>GP</td>\n",
       "      <td>F</td>\n",
       "      <td>18</td>\n",
       "      <td>U</td>\n",
       "      <td>GT3</td>\n",
       "      <td>A</td>\n",
       "      <td>4</td>\n",
       "      <td>4</td>\n",
       "      <td>at_home</td>\n",
       "      <td>teacher</td>\n",
       "      <td>...</td>\n",
       "      <td>4</td>\n",
       "      <td>3</td>\n",
       "      <td>4</td>\n",
       "      <td>1</td>\n",
       "      <td>1</td>\n",
       "      <td>3</td>\n",
       "      <td>6</td>\n",
       "      <td>5</td>\n",
       "      <td>6</td>\n",
       "      <td>6</td>\n",
       "    </tr>\n",
       "    <tr>\n",
       "      <th>1</th>\n",
       "      <td>GP</td>\n",
       "      <td>F</td>\n",
       "      <td>17</td>\n",
       "      <td>U</td>\n",
       "      <td>GT3</td>\n",
       "      <td>T</td>\n",
       "      <td>1</td>\n",
       "      <td>1</td>\n",
       "      <td>at_home</td>\n",
       "      <td>other</td>\n",
       "      <td>...</td>\n",
       "      <td>5</td>\n",
       "      <td>3</td>\n",
       "      <td>3</td>\n",
       "      <td>1</td>\n",
       "      <td>1</td>\n",
       "      <td>3</td>\n",
       "      <td>4</td>\n",
       "      <td>5</td>\n",
       "      <td>5</td>\n",
       "      <td>6</td>\n",
       "    </tr>\n",
       "    <tr>\n",
       "      <th>2</th>\n",
       "      <td>GP</td>\n",
       "      <td>F</td>\n",
       "      <td>15</td>\n",
       "      <td>U</td>\n",
       "      <td>LE3</td>\n",
       "      <td>T</td>\n",
       "      <td>1</td>\n",
       "      <td>1</td>\n",
       "      <td>at_home</td>\n",
       "      <td>other</td>\n",
       "      <td>...</td>\n",
       "      <td>4</td>\n",
       "      <td>3</td>\n",
       "      <td>2</td>\n",
       "      <td>2</td>\n",
       "      <td>3</td>\n",
       "      <td>3</td>\n",
       "      <td>10</td>\n",
       "      <td>7</td>\n",
       "      <td>8</td>\n",
       "      <td>10</td>\n",
       "    </tr>\n",
       "    <tr>\n",
       "      <th>3</th>\n",
       "      <td>GP</td>\n",
       "      <td>F</td>\n",
       "      <td>15</td>\n",
       "      <td>U</td>\n",
       "      <td>GT3</td>\n",
       "      <td>T</td>\n",
       "      <td>4</td>\n",
       "      <td>2</td>\n",
       "      <td>health</td>\n",
       "      <td>services</td>\n",
       "      <td>...</td>\n",
       "      <td>3</td>\n",
       "      <td>2</td>\n",
       "      <td>2</td>\n",
       "      <td>1</td>\n",
       "      <td>1</td>\n",
       "      <td>5</td>\n",
       "      <td>2</td>\n",
       "      <td>15</td>\n",
       "      <td>14</td>\n",
       "      <td>15</td>\n",
       "    </tr>\n",
       "    <tr>\n",
       "      <th>4</th>\n",
       "      <td>GP</td>\n",
       "      <td>F</td>\n",
       "      <td>16</td>\n",
       "      <td>U</td>\n",
       "      <td>GT3</td>\n",
       "      <td>T</td>\n",
       "      <td>3</td>\n",
       "      <td>3</td>\n",
       "      <td>other</td>\n",
       "      <td>other</td>\n",
       "      <td>...</td>\n",
       "      <td>4</td>\n",
       "      <td>3</td>\n",
       "      <td>2</td>\n",
       "      <td>1</td>\n",
       "      <td>2</td>\n",
       "      <td>5</td>\n",
       "      <td>4</td>\n",
       "      <td>6</td>\n",
       "      <td>10</td>\n",
       "      <td>10</td>\n",
       "    </tr>\n",
       "  </tbody>\n",
       "</table>\n",
       "<p>5 rows × 33 columns</p>\n",
       "</div>"
      ],
      "text/plain": [
       "  school sex  age address famsize Pstatus  Medu  Fedu     Mjob      Fjob  ...  \\\n",
       "0     GP   F   18       U     GT3       A     4     4  at_home   teacher  ...   \n",
       "1     GP   F   17       U     GT3       T     1     1  at_home     other  ...   \n",
       "2     GP   F   15       U     LE3       T     1     1  at_home     other  ...   \n",
       "3     GP   F   15       U     GT3       T     4     2   health  services  ...   \n",
       "4     GP   F   16       U     GT3       T     3     3    other     other  ...   \n",
       "\n",
       "  famrel freetime  goout  Dalc  Walc health absences  G1  G2  G3  \n",
       "0      4        3      4     1     1      3        6   5   6   6  \n",
       "1      5        3      3     1     1      3        4   5   5   6  \n",
       "2      4        3      2     2     3      3       10   7   8  10  \n",
       "3      3        2      2     1     1      5        2  15  14  15  \n",
       "4      4        3      2     1     2      5        4   6  10  10  \n",
       "\n",
       "[5 rows x 33 columns]"
      ]
     },
     "execution_count": 4,
     "metadata": {},
     "output_type": "execute_result"
    }
   ],
   "source": [
    "df = pd.read_csv('./student-mat.csv', sep=';')\n",
    "df.head()"
   ]
  },
  {
   "cell_type": "code",
   "execution_count": 5,
   "id": "60e4bc1f",
   "metadata": {},
   "outputs": [],
   "source": [
    "#split df into categorical and numerical features\n",
    "cat_df = df.select_dtypes(include='object')\n",
    "num_df = df.select_dtypes(include='int64')\n",
    "\n",
    "onehot_df = pd.DataFrame.copy(df)\n",
    "\n",
    "for feature in cat_df.columns:\n",
    "    onehot_cols = pd.get_dummies(df[feature], prefix=feature)\n",
    "    \n",
    "    onehot_df = onehot_df.drop(columns=feature)\n",
    "    onehot_df = pd.concat([onehot_df, onehot_cols], axis=1)"
   ]
  },
  {
   "cell_type": "code",
   "execution_count": 4,
   "id": "36d116a8",
   "metadata": {},
   "outputs": [
    {
     "data": {
      "text/html": [
       "<div>\n",
       "<style scoped>\n",
       "    .dataframe tbody tr th:only-of-type {\n",
       "        vertical-align: middle;\n",
       "    }\n",
       "\n",
       "    .dataframe tbody tr th {\n",
       "        vertical-align: top;\n",
       "    }\n",
       "\n",
       "    .dataframe thead th {\n",
       "        text-align: right;\n",
       "    }\n",
       "</style>\n",
       "<table border=\"1\" class=\"dataframe\">\n",
       "  <thead>\n",
       "    <tr style=\"text-align: right;\">\n",
       "      <th></th>\n",
       "      <th>age</th>\n",
       "      <th>Medu</th>\n",
       "      <th>Fedu</th>\n",
       "      <th>traveltime</th>\n",
       "      <th>studytime</th>\n",
       "      <th>failures</th>\n",
       "      <th>famrel</th>\n",
       "      <th>freetime</th>\n",
       "      <th>goout</th>\n",
       "      <th>Dalc</th>\n",
       "      <th>...</th>\n",
       "      <th>activities_no</th>\n",
       "      <th>activities_yes</th>\n",
       "      <th>nursery_no</th>\n",
       "      <th>nursery_yes</th>\n",
       "      <th>higher_no</th>\n",
       "      <th>higher_yes</th>\n",
       "      <th>internet_no</th>\n",
       "      <th>internet_yes</th>\n",
       "      <th>romantic_no</th>\n",
       "      <th>romantic_yes</th>\n",
       "    </tr>\n",
       "  </thead>\n",
       "  <tbody>\n",
       "    <tr>\n",
       "      <th>0</th>\n",
       "      <td>18</td>\n",
       "      <td>4</td>\n",
       "      <td>4</td>\n",
       "      <td>2</td>\n",
       "      <td>2</td>\n",
       "      <td>0</td>\n",
       "      <td>4</td>\n",
       "      <td>3</td>\n",
       "      <td>4</td>\n",
       "      <td>1</td>\n",
       "      <td>...</td>\n",
       "      <td>1</td>\n",
       "      <td>0</td>\n",
       "      <td>0</td>\n",
       "      <td>1</td>\n",
       "      <td>0</td>\n",
       "      <td>1</td>\n",
       "      <td>1</td>\n",
       "      <td>0</td>\n",
       "      <td>1</td>\n",
       "      <td>0</td>\n",
       "    </tr>\n",
       "    <tr>\n",
       "      <th>1</th>\n",
       "      <td>17</td>\n",
       "      <td>1</td>\n",
       "      <td>1</td>\n",
       "      <td>1</td>\n",
       "      <td>2</td>\n",
       "      <td>0</td>\n",
       "      <td>5</td>\n",
       "      <td>3</td>\n",
       "      <td>3</td>\n",
       "      <td>1</td>\n",
       "      <td>...</td>\n",
       "      <td>1</td>\n",
       "      <td>0</td>\n",
       "      <td>1</td>\n",
       "      <td>0</td>\n",
       "      <td>0</td>\n",
       "      <td>1</td>\n",
       "      <td>0</td>\n",
       "      <td>1</td>\n",
       "      <td>1</td>\n",
       "      <td>0</td>\n",
       "    </tr>\n",
       "    <tr>\n",
       "      <th>2</th>\n",
       "      <td>15</td>\n",
       "      <td>1</td>\n",
       "      <td>1</td>\n",
       "      <td>1</td>\n",
       "      <td>2</td>\n",
       "      <td>3</td>\n",
       "      <td>4</td>\n",
       "      <td>3</td>\n",
       "      <td>2</td>\n",
       "      <td>2</td>\n",
       "      <td>...</td>\n",
       "      <td>1</td>\n",
       "      <td>0</td>\n",
       "      <td>0</td>\n",
       "      <td>1</td>\n",
       "      <td>0</td>\n",
       "      <td>1</td>\n",
       "      <td>0</td>\n",
       "      <td>1</td>\n",
       "      <td>1</td>\n",
       "      <td>0</td>\n",
       "    </tr>\n",
       "    <tr>\n",
       "      <th>3</th>\n",
       "      <td>15</td>\n",
       "      <td>4</td>\n",
       "      <td>2</td>\n",
       "      <td>1</td>\n",
       "      <td>3</td>\n",
       "      <td>0</td>\n",
       "      <td>3</td>\n",
       "      <td>2</td>\n",
       "      <td>2</td>\n",
       "      <td>1</td>\n",
       "      <td>...</td>\n",
       "      <td>0</td>\n",
       "      <td>1</td>\n",
       "      <td>0</td>\n",
       "      <td>1</td>\n",
       "      <td>0</td>\n",
       "      <td>1</td>\n",
       "      <td>0</td>\n",
       "      <td>1</td>\n",
       "      <td>0</td>\n",
       "      <td>1</td>\n",
       "    </tr>\n",
       "    <tr>\n",
       "      <th>4</th>\n",
       "      <td>16</td>\n",
       "      <td>3</td>\n",
       "      <td>3</td>\n",
       "      <td>1</td>\n",
       "      <td>2</td>\n",
       "      <td>0</td>\n",
       "      <td>4</td>\n",
       "      <td>3</td>\n",
       "      <td>2</td>\n",
       "      <td>1</td>\n",
       "      <td>...</td>\n",
       "      <td>1</td>\n",
       "      <td>0</td>\n",
       "      <td>0</td>\n",
       "      <td>1</td>\n",
       "      <td>0</td>\n",
       "      <td>1</td>\n",
       "      <td>1</td>\n",
       "      <td>0</td>\n",
       "      <td>1</td>\n",
       "      <td>0</td>\n",
       "    </tr>\n",
       "  </tbody>\n",
       "</table>\n",
       "<p>5 rows × 59 columns</p>\n",
       "</div>"
      ],
      "text/plain": [
       "   age  Medu  Fedu  traveltime  studytime  failures  famrel  freetime  goout  \\\n",
       "0   18     4     4           2          2         0       4         3      4   \n",
       "1   17     1     1           1          2         0       5         3      3   \n",
       "2   15     1     1           1          2         3       4         3      2   \n",
       "3   15     4     2           1          3         0       3         2      2   \n",
       "4   16     3     3           1          2         0       4         3      2   \n",
       "\n",
       "   Dalc  ...  activities_no  activities_yes  nursery_no  nursery_yes  \\\n",
       "0     1  ...              1               0           0            1   \n",
       "1     1  ...              1               0           1            0   \n",
       "2     2  ...              1               0           0            1   \n",
       "3     1  ...              0               1           0            1   \n",
       "4     1  ...              1               0           0            1   \n",
       "\n",
       "   higher_no  higher_yes  internet_no  internet_yes  romantic_no  romantic_yes  \n",
       "0          0           1            1             0            1             0  \n",
       "1          0           1            0             1            1             0  \n",
       "2          0           1            0             1            1             0  \n",
       "3          0           1            0             1            0             1  \n",
       "4          0           1            1             0            1             0  \n",
       "\n",
       "[5 rows x 59 columns]"
      ]
     },
     "execution_count": 4,
     "metadata": {},
     "output_type": "execute_result"
    }
   ],
   "source": [
    "onehot_df.head()"
   ]
  },
  {
   "cell_type": "markdown",
   "id": "00bdbd10",
   "metadata": {},
   "source": [
    "In the Portuguese grading system, a score of 10+ is a pass. Let's make things a bit simpler for our decision trees and try to predict if a student passes or fails in the third semester. \n",
    "\n",
    "To do that, we turn the G3 column into a binary one."
   ]
  },
  {
   "cell_type": "code",
   "execution_count": 5,
   "id": "ef337191",
   "metadata": {},
   "outputs": [
    {
     "data": {
      "text/plain": [
       "(130, 59)"
      ]
     },
     "execution_count": 5,
     "metadata": {},
     "output_type": "execute_result"
    }
   ],
   "source": [
    "#But first, make sure our classes are sufficiently populated\n",
    "onehot_df.loc[onehot_df.G3 < 10].shape"
   ]
  },
  {
   "cell_type": "markdown",
   "id": "892de56d",
   "metadata": {},
   "source": [
    "Almost a fifth of the students failed :("
   ]
  },
  {
   "cell_type": "code",
   "execution_count": 6,
   "id": "3c037c21",
   "metadata": {},
   "outputs": [
    {
     "data": {
      "text/plain": [
       "0    0\n",
       "1    0\n",
       "2    1\n",
       "3    1\n",
       "4    1\n",
       "Name: G3, dtype: int64"
      ]
     },
     "execution_count": 6,
     "metadata": {},
     "output_type": "execute_result"
    }
   ],
   "source": [
    "onehot_df.loc[onehot_df.G3 < 10, 'G3'] = 0\n",
    "onehot_df.loc[onehot_df.G3 >= 10, 'G3'] = 1\n",
    "\n",
    "onehot_df.G3.head()"
   ]
  },
  {
   "cell_type": "markdown",
   "id": "71f313ae",
   "metadata": {},
   "source": [
    "Before we train, let's split off 20% of the data for testing."
   ]
  },
  {
   "cell_type": "code",
   "execution_count": 32,
   "id": "02e4587c",
   "metadata": {},
   "outputs": [],
   "source": [
    "X_train, X_test, y_train, y_test = train_test_split(onehot_df.drop(columns='G3'), onehot_df.G3, test_size=0.2, random_state=42)"
   ]
  },
  {
   "cell_type": "markdown",
   "id": "6eeace27",
   "metadata": {},
   "source": [
    "## Training"
   ]
  },
  {
   "cell_type": "code",
   "execution_count": 8,
   "id": "3b317e89",
   "metadata": {},
   "outputs": [],
   "source": [
    "#CV implementation, identical to Nikhil's, adapted to work with pandas df. Thanks, Nikhil!\n",
    "\n",
    "def cross_validation(model, X, y, k_fold = 5):\n",
    "    \"\"\"\n",
    "    method: cross_validation\n",
    "    params: Model(object used to fit data) model\n",
    "      numpy array (array-like) Data X\n",
    "      numpy array (array-like) Labels y\n",
    "      int k_fold (default value set to 5)\n",
    "    return: A tuple containing the Model(Final Model with best accuracy) final_model and float best_accuracy - average validation accuracy\n",
    "    \"\"\"\n",
    "    best_accuracy = 0\n",
    "    start = math.ceil((X.shape[0]/k_fold)*(k_fold-1))\n",
    "    end = X.shape[0]\n",
    "    model_accuracies = list()\n",
    "\n",
    "    \"Mashbayar, to delete: The original method threw some weird key error, so just using the scikit implementation of the same thing\"\n",
    "    # shuffle the training data\n",
    "    #np.random.seed(1)\n",
    "    #np.random.shuffle(X)\n",
    "    #np.random.seed(1)\n",
    "    #np.random.shuffle(y)\n",
    "    \n",
    "    X, y = shuffle(X, y)\n",
    "\n",
    "    # k_fold\n",
    "    for i in range(k_fold):\n",
    "\n",
    "        # split into training and validation data\n",
    "        validation_X = X.iloc[start: end]\n",
    "        validation_y = y.iloc[start: end]\n",
    "\n",
    "        training_X = X[~X.index.isin(validation_X.index)]\n",
    "        training_y = y[~y.index.isin(validation_y.index)]\n",
    "        #training_X = np.setdiff1d(X, validation_X)\n",
    "        #training_y = np.setdiff1d(y, validation_y)\n",
    "\n",
    "        # fit the model\n",
    "        model.fit(training_X, training_y)\n",
    "\n",
    "        # predict on validation data\n",
    "        y_pred = model.predict(validation_X)\n",
    "        acc = np.mean(y_pred == validation_y)\n",
    "        model_accuracies.append(acc)\n",
    "\n",
    "        \"Mashbayar, to delete: I don't think we need to return best model since they all have the same hyperparameters. Hyperparameter optimization is done outside of this.\" \n",
    "        \"We're mostly trying to have a better accuracy score, right?\"\n",
    "        # pick the model with the best accuracy\n",
    "        #if acc > best_accuracy:\n",
    "        #    best_accuracy = acc\n",
    "        #    final_model = model\n",
    "\n",
    "        end = start\n",
    "        start = math.ceil(start - (X.shape[0]/k_fold))\n",
    "\n",
    "    return np.mean(model_accuracies)"
   ]
  },
  {
   "cell_type": "markdown",
   "id": "24e40f67",
   "metadata": {},
   "source": [
    "### KNN\n",
    "\n",
    "Let's find a best KNN model. All the code here is Elvin's. Thank you!"
   ]
  },
  {
   "cell_type": "code",
   "execution_count": 9,
   "id": "5a10f010",
   "metadata": {},
   "outputs": [],
   "source": [
    "k_values = np.arange(1, 50)\n",
    "\n",
    "best_acc = 0\n",
    "accuracy = np.zeros(50)\n",
    "\n",
    "from sklearn.model_selection import cross_val_score\n",
    "\n",
    "for n_neighbors in k_values:\n",
    "    knn_model = KNeighborsClassifier(n_neighbors=n_neighbors)\n",
    "    \n",
    "    #find the best 5-fold cross validation score accuracy\n",
    "    acc = cross_validation(knn_model, X_train, y_train)\n",
    "    accuracy[n_neighbors] = acc\n",
    "    if acc > best_acc:\n",
    "        best_K = n_neighbors\n",
    "        best_acc = acc\n",
    "        best_knn = knn_model"
   ]
  },
  {
   "cell_type": "code",
   "execution_count": 10,
   "id": "b35ddc3c",
   "metadata": {},
   "outputs": [
    {
     "data": {
      "text/plain": [
       "0.8857142857142858"
      ]
     },
     "execution_count": 10,
     "metadata": {},
     "output_type": "execute_result"
    }
   ],
   "source": [
    "best_acc"
   ]
  },
  {
   "cell_type": "code",
   "execution_count": 11,
   "id": "6e496ae2",
   "metadata": {},
   "outputs": [
    {
     "data": {
      "image/png": "[encoded data removed]",
      "text/plain": [
       "<Figure size 432x288 with 1 Axes>"
      ]
     },
     "metadata": {
      "needs_background": "light"
     },
     "output_type": "display_data"
    }
   ],
   "source": [
    "plt.plot(k_values, accuracy[1:])\n",
    "plt.xlim(0,50)\n",
    "#plt.ylim(0.7,0.8)\n",
    "plt.ylabel('Mean accuracy')\n",
    "plt.xlabel('K (number of neighbors)')\n",
    "plt.show()"
   ]
  },
  {
   "cell_type": "markdown",
   "id": "b7065ff6",
   "metadata": {},
   "source": [
    "### Decision Tree\n",
    "\n",
    "Now let's find a best decision tree. It's a wee bit more complicated, since there is so much space to search through. Potentially we could search through an extensive list of combinations: \n",
    "\n",
    "Most of the code is Elvin's again."
   ]
  },
  {
   "cell_type": "code",
   "execution_count": 12,
   "id": "7d46bc8e",
   "metadata": {},
   "outputs": [],
   "source": [
    "#choices of hyperparameter \n",
    "max_depth_values = np.arange(5, 16)\n",
    "min_samples_leaf_values = np.arange(10,40) * 2\n",
    "min_impurity_decrease_values = np.arange(20) * 0.00002\n",
    "\n",
    "\n",
    "total_models = max_depth_values.size * min_samples_leaf_values.size * min_impurity_decrease_values.size\n",
    "accuracy = np.zeros(max_depth_values.size * min_samples_leaf_values.size * min_impurity_decrease_values.size).reshape(max_depth_values.size, min_samples_leaf_values.size, min_impurity_decrease_values.size)\n",
    "best_acc = 0\n",
    "cur_per, count = -1, 0\n",
    "\n",
    "#try all hyperparameter combinations\n",
    "for max_depth in range(max_depth_values.size):\n",
    "    for min_samples_leaf in  range(min_samples_leaf_values.size):\n",
    "        for min_impurity_decrease in range(min_impurity_decrease_values.size):\n",
    "            clf = DecisionTreeClassifier(max_depth=max_depth_values[max_depth], min_samples_leaf=min_samples_leaf_values[min_samples_leaf], min_impurity_decrease=min_impurity_decrease_values[min_impurity_decrease])\n",
    "            #find the best 5-fold cross validation score accuracy\n",
    "            acc = cross_val_score(clf, X_train, y_train, cv=5).mean()\n",
    "            accuracy[max_depth, min_samples_leaf, min_impurity_decrease] = acc\n",
    "            if acc > best_acc:\n",
    "                best_cfg = (max_depth_values[max_depth], min_samples_leaf_values[min_samples_leaf], min_impurity_decrease_values[min_impurity_decrease])\n",
    "                best_acc = acc\n",
    "                best_tree = clf"
   ]
  },
  {
   "cell_type": "code",
   "execution_count": 13,
   "id": "805dc020",
   "metadata": {},
   "outputs": [
    {
     "name": "stdout",
     "output_type": "stream",
     "text": [
      "0.9207341269841269 (5, 20, 0.0)\n"
     ]
    }
   ],
   "source": [
    "print(best_acc, best_cfg)"
   ]
  },
  {
   "cell_type": "markdown",
   "id": "b270896f",
   "metadata": {},
   "source": [
    "## Prediction\n",
    "\n",
    "Let's predict these students' G3 grades using their earlier grades and other details."
   ]
  },
  {
   "cell_type": "code",
   "execution_count": 14,
   "id": "aed3b4d5",
   "metadata": {},
   "outputs": [
    {
     "data": {
      "text/plain": [
       "KNeighborsClassifier(n_neighbors=3)"
      ]
     },
     "execution_count": 14,
     "metadata": {},
     "output_type": "execute_result"
    }
   ],
   "source": [
    "best_tree.fit(X_train, y_train)\n",
    "best_knn.fit(X_train, y_train)"
   ]
  },
  {
   "cell_type": "code",
   "execution_count": 15,
   "id": "639d3c18",
   "metadata": {},
   "outputs": [],
   "source": [
    "tree_pred = best_tree.predict(X_test)\n",
    "knn_pred = best_knn.predict(X_test)"
   ]
  },
  {
   "cell_type": "markdown",
   "id": "3ffa778b",
   "metadata": {},
   "source": [
    "KNN doesn't do very bad."
   ]
  },
  {
   "cell_type": "code",
   "execution_count": 16,
   "id": "f22b78a7",
   "metadata": {},
   "outputs": [
    {
     "data": {
      "text/plain": [
       "0.8408119658119657"
      ]
     },
     "execution_count": 16,
     "metadata": {},
     "output_type": "execute_result"
    }
   ],
   "source": [
    "fpr, tpr, thresholds = metrics.roc_curve(y_test, knn_pred)\n",
    "metrics.auc(fpr, tpr)"
   ]
  },
  {
   "cell_type": "code",
   "execution_count": 18,
   "id": "0a383ad7",
   "metadata": {},
   "outputs": [
    {
     "data": {
      "text/plain": [
       "<sklearn.metrics._plot.roc_curve.RocCurveDisplay at 0x1afe8bd98b0>"
      ]
     },
     "execution_count": 18,
     "metadata": {},
     "output_type": "execute_result"
    },
    {
     "data": {
      "image/png": "[encoded data removed]",
      "text/plain": [
       "<Figure size 432x288 with 1 Axes>"
      ]
     },
     "metadata": {
      "needs_background": "light"
     },
     "output_type": "display_data"
    }
   ],
   "source": [
    "metrics.plot_roc_curve(best_knn, X_test, y_test)"
   ]
  },
  {
   "cell_type": "markdown",
   "id": "2c2c8667",
   "metadata": {},
   "source": [
    "But it looks like decision tree is a winner."
   ]
  },
  {
   "cell_type": "code",
   "execution_count": 17,
   "id": "ba45c4a5",
   "metadata": {},
   "outputs": [
    {
     "data": {
      "text/plain": [
       "0.9237891737891738"
      ]
     },
     "execution_count": 17,
     "metadata": {},
     "output_type": "execute_result"
    }
   ],
   "source": [
    "fpr, tpr, thresholds = metrics.roc_curve(y_test, tree_pred)\n",
    "metrics.auc(fpr, tpr)"
   ]
  },
  {
   "cell_type": "code",
   "execution_count": 19,
   "id": "023149e8",
   "metadata": {},
   "outputs": [
    {
     "data": {
      "text/plain": [
       "<sklearn.metrics._plot.roc_curve.RocCurveDisplay at 0x1aff0b31c40>"
      ]
     },
     "execution_count": 19,
     "metadata": {},
     "output_type": "execute_result"
    },
    {
     "data": {
      "image/png": "[encoded data removed]",
      "text/plain": [
       "<Figure size 432x288 with 1 Axes>"
      ]
     },
     "metadata": {
      "needs_background": "light"
     },
     "output_type": "display_data"
    }
   ],
   "source": [
    "metrics.plot_roc_curve(best_tree, X_test, y_test)"
   ]
  },
  {
   "cell_type": "markdown",
   "id": "d65e5143",
   "metadata": {},
   "source": [
    "## Feature selection experiments"
   ]
  },
  {
   "cell_type": "markdown",
   "id": "15f19107",
   "metadata": {},
   "source": [
    "Intuitively and as noted in the dataset description, previous grades are the most useful predictor for the final grade. And indeed, it looks like the reason our tree does well is simply because it checks whether the student passed the last trimester."
   ]
  },
  {
   "cell_type": "code",
   "execution_count": 27,
   "id": "defe61e8",
   "metadata": {},
   "outputs": [
    {
     "data": {
      "image/png": "[encoded data removed]",
      "text/plain": [
       "<Figure size 432x288 with 1 Axes>"
      ]
     },
     "metadata": {
      "needs_background": "light"
     },
     "output_type": "display_data"
    }
   ],
   "source": [
    "feat_importances = pd.Series(best_tree.feature_importances_, index=X_test.columns)\n",
    "feat_importances.nlargest(10).plot(kind='barh')\n",
    "plt.show()"
   ]
  },
  {
   "cell_type": "markdown",
   "id": "98a22192",
   "metadata": {},
   "source": [
    "Let's drop the previous grades and see what happens to our tree."
   ]
  },
  {
   "cell_type": "code",
   "execution_count": 41,
   "id": "26835d75",
   "metadata": {},
   "outputs": [
    {
     "data": {
      "text/plain": [
       "0.5705128205128205"
      ]
     },
     "execution_count": 41,
     "metadata": {},
     "output_type": "execute_result"
    }
   ],
   "source": [
    "X_train_new, X_test_new, y_train_new, y_test_new = train_test_split(onehot_df.drop(columns=['G3', 'G2', 'G1']), onehot_df.G3, test_size=0.2, random_state=42)\n",
    "\n",
    "no_grade_tree = DecisionTreeClassifier(max_depth=5, min_samples_leaf=20, min_impurity_decrease=0.0)\n",
    "\n",
    "no_grade_tree.fit(X_train_new, y_train_new)\n",
    "pred = no_grade_tree.predict(X_test_new)\n",
    "fpr, tpr, thresholds = metrics.roc_curve(y_test_new, pred)\n",
    "metrics.auc(fpr, tpr)"
   ]
  },
  {
   "cell_type": "code",
   "execution_count": 29,
   "id": "616a80a1",
   "metadata": {},
   "outputs": [
    {
     "data": {
      "text/plain": [
       "<sklearn.metrics._plot.roc_curve.RocCurveDisplay at 0x1aff0b35e20>"
      ]
     },
     "execution_count": 29,
     "metadata": {},
     "output_type": "execute_result"
    },
    {
     "data": {
      "image/png": "[encoded data removed]",
      "text/plain": [
       "<Figure size 432x288 with 1 Axes>"
      ]
     },
     "metadata": {
      "needs_background": "light"
     },
     "output_type": "display_data"
    }
   ],
   "source": [
    "metrics.plot_roc_curve(no_grade_tree, X_test, y_test)"
   ]
  },
  {
   "cell_type": "markdown",
   "id": "a36c8a0c",
   "metadata": {},
   "source": [
    "Oof. Without grades, what's predicting the students' performance?"
   ]
  },
  {
   "cell_type": "code",
   "execution_count": 30,
   "id": "d0dc5ae9",
   "metadata": {},
   "outputs": [
    {
     "data": {
      "image/png": "[encoded data removed]",
      "text/plain": [
       "<Figure size 432x288 with 1 Axes>"
      ]
     },
     "metadata": {
      "needs_background": "light"
     },
     "output_type": "display_data"
    }
   ],
   "source": [
    "feat_importances = pd.Series(no_grade_tree.feature_importances_, index=X_test.columns)\n",
    "feat_importances.nlargest(10).plot(kind='barh')\n",
    "plt.show()"
   ]
  },
  {
   "cell_type": "markdown",
   "id": "4c1ad225",
   "metadata": {},
   "source": [
    "Previous failures and abscences from class. That makes sense, intuitively! Gender also seems to play a role, but our decision tree is somewhat bad, so it should be taken with a grain of salt.\n",
    "\n",
    "All that said, our hyperparameters were optimized for a different dataset, so we might not be giving the tree its best shot. "
   ]
  },
  {
   "cell_type": "markdown",
   "id": "54a10fc3",
   "metadata": {},
   "source": [
    "## Randomized Grid Search\n",
    "\n",
    "Before we optimize the new tree, let's try a different method of hyperparameter search. Running through all the hyperparameter combos takes a long time, so let's try picking and testing random sets."
   ]
  },
  {
   "cell_type": "code",
   "execution_count": 38,
   "id": "07319164",
   "metadata": {},
   "outputs": [],
   "source": [
    "def random_tree_optimization(X_train, y_train):\n",
    "\n",
    "    #choices of hyperparameter \n",
    "    max_depth_values = np.arange(5, 16)\n",
    "    min_samples_leaf_values = np.arange(10,40) * 2\n",
    "    min_impurity_decrease_values = np.arange(20) * 0.00002\n",
    "\n",
    "    n_sets_to_sample = 20\n",
    "\n",
    "    total_models = max_depth_values.size * min_samples_leaf_values.size * min_impurity_decrease_values.size\n",
    "    #accuracy = np.zeros(max_depth_values.size * min_samples_leaf_values.size * min_impurity_decrease_values.size).reshape(max_depth_values.size, min_samples_leaf_values.size, min_impurity_decrease_values.size)\n",
    "    best_acc = 0\n",
    "    cur_per, count = -1, 0\n",
    "\n",
    "    for i in range(n_sets_to_sample):\n",
    "\n",
    "        max_depth = np.random.choice(max_depth_values)\n",
    "        min_split = np.random.choice(min_samples_leaf_values)\n",
    "        min_impurity = np.random.choice(min_impurity_decrease_values)\n",
    "\n",
    "        clf = DecisionTreeClassifier(max_depth=max_depth, min_samples_leaf=min_split, min_impurity_decrease=min_impurity)\n",
    "        #find the best 5-fold cross validation score accuracy\n",
    "        acc = cross_val_score(clf, X_train, y_train, cv=5).mean()\n",
    "        #accuracy[max_depth, min_samples_leaf, min_impurity_decrease] = acc\n",
    "        if acc > best_acc:\n",
    "            best_cfg = (max_depth, min_split, min_impurity)\n",
    "            best_acc = acc\n",
    "            best_tree = clf\n",
    "            \n",
    "    return best_cfg, best_acc, best_tree\n"
   ]
  },
  {
   "cell_type": "code",
   "execution_count": 39,
   "id": "1c8fc91b",
   "metadata": {},
   "outputs": [
    {
     "name": "stdout",
     "output_type": "stream",
     "text": [
      "0.9207341269841269 (5, 30, 0.00018)\n"
     ]
    }
   ],
   "source": [
    "best_cfg, best_acc, best_model = random_tree_optimization(X_train, y_train)\n",
    "\n",
    "print(best_acc, best_cfg)"
   ]
  },
  {
   "cell_type": "markdown",
   "id": "0bcbdb36",
   "metadata": {},
   "source": [
    "Very similar max accuracy to the thorough search, but also a different optimized hyperparameter set!\n",
    "\n",
    "Let's use our new method to optimize the no grade tree."
   ]
  },
  {
   "cell_type": "code",
   "execution_count": 42,
   "id": "163eb546",
   "metadata": {},
   "outputs": [
    {
     "data": {
      "text/plain": [
       "0.6748575498575499"
      ]
     },
     "execution_count": 42,
     "metadata": {},
     "output_type": "execute_result"
    }
   ],
   "source": [
    "best_cfg, best_acc, best_model_no_grade = random_tree_optimization(X_train_new, y_train_new)\n",
    "\n",
    "best_model_no_grade.fit(X_train_new, y_train_new)\n",
    "pred = best_model_no_grade.predict(X_test_new)\n",
    "fpr, tpr, thresholds = metrics.roc_curve(y_test_new, pred)\n",
    "metrics.auc(fpr, tpr)"
   ]
  },
  {
   "cell_type": "code",
   "execution_count": 44,
   "id": "4bba3fda",
   "metadata": {},
   "outputs": [
    {
     "data": {
      "text/plain": [
       "<sklearn.metrics._plot.roc_curve.RocCurveDisplay at 0x1aff2e16550>"
      ]
     },
     "execution_count": 44,
     "metadata": {},
     "output_type": "execute_result"
    },
    {
     "data": {
      "image/png": "[encoded data removed]",
      "text/plain": [
       "<Figure size 432x288 with 1 Axes>"
      ]
     },
     "metadata": {
      "needs_background": "light"
     },
     "output_type": "display_data"
    }
   ],
   "source": [
    "metrics.plot_roc_curve(best_model_no_grade, X_test_new, y_test_new)"
   ]
  },
  {
   "cell_type": "markdown",
   "id": "dbb5179e",
   "metadata": {},
   "source": [
    "Still not the best model in the world."
   ]
  },
  {
   "cell_type": "code",
   "execution_count": 46,
   "id": "424f4506",
   "metadata": {},
   "outputs": [
    {
     "data": {
      "image/png": "[encoded data removed]",
      "text/plain": [
       "<Figure size 432x288 with 1 Axes>"
      ]
     },
     "metadata": {
      "needs_background": "light"
     },
     "output_type": "display_data"
    }
   ],
   "source": [
    "feat_importances = pd.Series(best_model_no_grade.feature_importances_, index=X_test_new.columns)\n",
    "feat_importances.nlargest(10).plot(kind='barh')\n",
    "plt.show()"
   ]
  },
  {
   "cell_type": "markdown",
   "id": "14342309",
   "metadata": {},
   "source": [
    "Oh, hey, the feature importances changed in the better model! Failures, absences and gender are all important predictors, and health seems to play a role as well. All of them make some intuitive sense. "
   ]
  },
  {
   "cell_type": "code",
   "execution_count": null,
   "id": "9cf82415",
   "metadata": {},
   "outputs": [],
   "source": []
  }
 ],
 "metadata": {
  "kernelspec": {
   "display_name": "Python 3",
   "language": "python",
   "name": "python3"
  },
  "language_info": {
   "codemirror_mode": {
    "name": "ipython",
    "version": 3
   },
   "file_extension": ".py",
   "mimetype": "text/x-python",
   "name": "python",
   "nbconvert_exporter": "python",
   "pygments_lexer": "ipython3",
   "version": "3.8.8"
  }
 },
 "nbformat": 4,
 "nbformat_minor": 5
}
